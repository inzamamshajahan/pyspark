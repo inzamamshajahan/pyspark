{
 "cells": [
  {
   "cell_type": "code",
   "execution_count": 2,
   "metadata": {},
   "outputs": [],
   "source": [
    "import findspark\n",
    "findspark.init()\n",
    "\n",
    "import pyspark\n",
    "from pyspark.sql import *\n",
    "from pyspark.sql.functions import *\n",
    "from pyspark.sql.types import *"
   ]
  },
  {
   "cell_type": "code",
   "execution_count": 3,
   "metadata": {},
   "outputs": [],
   "source": [
    "spark = SparkSession.builder \\\n",
    "    .master(\"local[3]\") \\\n",
    "        .appName(\"MiscDemo\") \\\n",
    "            .getOrCreate()\n",
    "        "
   ]
  },
  {
   "cell_type": "markdown",
   "metadata": {},
   "source": [
    "# Creating a dataframe quickly"
   ]
  },
  {
   "cell_type": "code",
   "execution_count": 4,
   "metadata": {},
   "outputs": [],
   "source": [
    "data_list = [(\"Ravi\", 28, 1, 2002),\n",
    "                 (\"Abdul\", 23, 5, 81),  \n",
    "                 (\"John\", 12, 12, 6),  \n",
    "                 (\"Rosy\", 7, 8, 63),  \n",
    "                 (\"Abdul\", 23, 5, 81)] "
   ]
  },
  {
   "cell_type": "code",
   "execution_count": 5,
   "metadata": {},
   "outputs": [
    {
     "name": "stdout",
     "output_type": "stream",
     "text": [
      "root\n",
      " |-- _1: string (nullable = true)\n",
      " |-- _2: long (nullable = true)\n",
      " |-- _3: long (nullable = true)\n",
      " |-- _4: long (nullable = true)\n",
      "\n"
     ]
    }
   ],
   "source": [
    "raw_df = spark.createDataFrame(data_list)\n",
    "# since the schema is not specified int he above line, the schema is inferred and thus its a bit meaningless\n",
    "raw_df.printSchema()"
   ]
  },
  {
   "cell_type": "code",
   "execution_count": 6,
   "metadata": {},
   "outputs": [
    {
     "name": "stdout",
     "output_type": "stream",
     "text": [
      "root\n",
      " |-- name: string (nullable = true)\n",
      " |-- day: long (nullable = true)\n",
      " |-- month: long (nullable = true)\n",
      " |-- year: long (nullable = true)\n",
      "\n"
     ]
    }
   ],
   "source": [
    "# below is an approach which can be used for unit testing/exploration purposes.\n",
    "# in the below approach, we skipped the following: paralllalizing our data, creating RDD, creating schema definition etc....\n",
    "raw_df = spark.createDataFrame(data_list).toDF(\"name\", \"day\", \"month\", \"year\")\n",
    "raw_df.printSchema()"
   ]
  },
  {
   "cell_type": "code",
   "execution_count": 7,
   "metadata": {},
   "outputs": [],
   "source": [
    "# if we want to adjust the data types, you can add \"\" to the data.\n",
    "data_list = [(\"Ravi\", \"28\", \"1\", \"2002\"),\n",
    "                 (\"Abdul\", \"23\", \"5\", \"81\"),  \n",
    "                 (\"John\", \"12\", \"12\", \"6\"),  \n",
    "                 (\"Rosy\", \"7\", \"8\", \"63\"),  \n",
    "                 (\"Abdul\", \"23\", \"5\", \"81\")] "
   ]
  },
  {
   "cell_type": "code",
   "execution_count": 8,
   "metadata": {},
   "outputs": [
    {
     "name": "stdout",
     "output_type": "stream",
     "text": [
      "root\n",
      " |-- name: string (nullable = true)\n",
      " |-- day: string (nullable = true)\n",
      " |-- month: string (nullable = true)\n",
      " |-- year: string (nullable = true)\n",
      "\n"
     ]
    }
   ],
   "source": [
    "# below is an approach which can be used for unit testing/exploration purposes.\n",
    "# in the below approach, we skipped the following: paralllalizing our data, creating RDD, creating schema definition etc....\n",
    "raw_df = spark.createDataFrame(data_list).toDF(\"name\", \"day\", \"month\", \"year\")\n",
    "raw_df.printSchema()"
   ]
  },
  {
   "cell_type": "markdown",
   "metadata": {},
   "source": [
    "# How to add monotonically increasing id"
   ]
  },
  {
   "cell_type": "markdown",
   "metadata": {},
   "source": [
    "## This is a function which generates nonotonically increasing integer number which is guaranteed to be unique across all partitions\n",
    "## However do not expect this to be consecutive"
   ]
  },
  {
   "cell_type": "code",
   "execution_count": 9,
   "metadata": {},
   "outputs": [
    {
     "name": "stdout",
     "output_type": "stream",
     "text": [
      "root\n",
      " |-- name: string (nullable = true)\n",
      " |-- day: string (nullable = true)\n",
      " |-- month: string (nullable = true)\n",
      " |-- year: string (nullable = true)\n",
      "\n"
     ]
    }
   ],
   "source": [
    "# below is an approach which can be used for unit testing/exploration purposes.\n",
    "# in the below approach, we skipped the following: paralllalizing our data, creating RDD, creating schema definition etc....\n",
    "# Here we also added repartition to ensure that we have more than 1 partition. (this is imp to ensure while we are working on local machine)\n",
    "# But ensure that the unnecesary repartitioning parts are removed from the final code version.\n",
    "raw_df = spark.createDataFrame(data_list).toDF(\"name\", \"day\", \"month\", \"year\").repartition(3)\n",
    "raw_df.printSchema()"
   ]
  },
  {
   "cell_type": "code",
   "execution_count": 10,
   "metadata": {},
   "outputs": [
    {
     "name": "stdout",
     "output_type": "stream",
     "text": [
      "+-----+---+-----+----+-----------+\n",
      "| name|day|month|year|         id|\n",
      "+-----+---+-----+----+-----------+\n",
      "| Ravi| 28|    1|2002|          0|\n",
      "|Abdul| 23|    5|  81|          1|\n",
      "|Abdul| 23|    5|  81| 8589934592|\n",
      "| John| 12|   12|   6|17179869184|\n",
      "| Rosy|  7|    8|  63|17179869185|\n",
      "+-----+---+-----+----+-----------+\n",
      "\n"
     ]
    }
   ],
   "source": [
    "# We previously saw that the withcolumn method is used to transform a single column\n",
    "# In this case since ID do not exist, it will create that column\n",
    "df1 = raw_df.withColumn(\"id\", monotonically_increasing_id())\n",
    "df1.show()"
   ]
  },
  {
   "cell_type": "markdown",
   "metadata": {},
   "source": [
    "# How to use Case When Then"
   ]
  },
  {
   "cell_type": "code",
   "execution_count": 11,
   "metadata": {},
   "outputs": [
    {
     "name": "stdout",
     "output_type": "stream",
     "text": [
      "+-----+---+-----+------+-----------+\n",
      "| name|day|month|  year|         id|\n",
      "+-----+---+-----+------+-----------+\n",
      "| Ravi| 28|    1|  2002|          0|\n",
      "|Abdul| 23|    5|1981.0|          1|\n",
      "|Abdul| 23|    5|1981.0| 8589934592|\n",
      "| John| 12|   12|2006.0|17179869184|\n",
      "| Rosy|  7|    8|1963.0|17179869185|\n",
      "+-----+---+-----+------+-----------+\n",
      "\n"
     ]
    }
   ],
   "source": [
    "df2 = df1.withColumn(\"year\", expr(\"\"\"\n",
    "                                 case when year < 21 then year + 2000\n",
    "                                 when year < 100 then year + 1900\n",
    "                                 else year\n",
    "                                 end\"\"\"))\n",
    "df2.show()"
   ]
  },
  {
   "cell_type": "code",
   "execution_count": 12,
   "metadata": {},
   "outputs": [],
   "source": [
    "# In the above output you can see that the year automatically got converted to decimal, this happened due to the following:\n",
    "# Automatic Type Promotion & Schema inference incorrect data type.\n",
    "# In the above command since we did an arithametic operation the spark engine converted it into decimal did the operation\n",
    "# and then converted back to string, since the inferschema had set the dataframe schema as string."
   ]
  },
  {
   "cell_type": "markdown",
   "metadata": {},
   "source": [
    "# How to cast the fields"
   ]
  },
  {
   "cell_type": "code",
   "execution_count": 13,
   "metadata": {},
   "outputs": [
    {
     "name": "stdout",
     "output_type": "stream",
     "text": [
      "+-----+---+-----+----+-----------+\n",
      "| name|day|month|year|         id|\n",
      "+-----+---+-----+----+-----------+\n",
      "| Ravi| 28|    1|2002|          0|\n",
      "|Abdul| 23|    5|1981|          1|\n",
      "|Abdul| 23|    5|1981| 8589934592|\n",
      "| John| 12|   12|2006|17179869184|\n",
      "| Rosy|  7|    8|1963|17179869185|\n",
      "+-----+---+-----+----+-----------+\n",
      "\n"
     ]
    }
   ],
   "source": [
    "# Method 1: Inline Casting\n",
    "df3 = df1.withColumn(\"year\", expr(\"\"\"\n",
    "                                 case when year < 21 then cast(year as int) + 2000\n",
    "                                 when year < 100 then cast(year as int) + 1900\n",
    "                                 else year\n",
    "                                 end\"\"\"))\n",
    "df3.show()"
   ]
  },
  {
   "cell_type": "code",
   "execution_count": 14,
   "metadata": {},
   "outputs": [
    {
     "name": "stdout",
     "output_type": "stream",
     "text": [
      "+-----+---+-----+----+-----------+\n",
      "| name|day|month|year|         id|\n",
      "+-----+---+-----+----+-----------+\n",
      "| Ravi| 28|    1|2002|          0|\n",
      "|Abdul| 23|    5|1981|          1|\n",
      "|Abdul| 23|    5|1981| 8589934592|\n",
      "| John| 12|   12|2006|17179869184|\n",
      "| Rosy|  7|    8|1963|17179869185|\n",
      "+-----+---+-----+----+-----------+\n",
      "\n",
      "root\n",
      " |-- name: string (nullable = true)\n",
      " |-- day: string (nullable = true)\n",
      " |-- month: string (nullable = true)\n",
      " |-- year: integer (nullable = true)\n",
      " |-- id: long (nullable = false)\n",
      "\n"
     ]
    }
   ],
   "source": [
    "# Method 2: Change the Schema\n",
    "df3 = df1.withColumn(\"year\", expr(\"\"\"\n",
    "                                 case when year < 21 then year + 2000\n",
    "                                 when year < 100 then year + 1900\n",
    "                                 else year\n",
    "                                 end\"\"\").cast(IntegerType()))\n",
    "df3.show()\n",
    "df3.printSchema()"
   ]
  },
  {
   "cell_type": "code",
   "execution_count": 15,
   "metadata": {},
   "outputs": [
    {
     "name": "stdout",
     "output_type": "stream",
     "text": [
      "+-----+---+-----+----+-----------+\n",
      "| name|day|month|year|         id|\n",
      "+-----+---+-----+----+-----------+\n",
      "| Ravi| 28|    1|2002|          0|\n",
      "|Abdul| 23|    5|  81|          1|\n",
      "|Abdul| 23|    5|  81| 8589934592|\n",
      "| John| 12|   12|   6|17179869184|\n",
      "| Rosy|  7|    8|  63|17179869185|\n",
      "+-----+---+-----+----+-----------+\n",
      "\n",
      "root\n",
      " |-- name: string (nullable = true)\n",
      " |-- day: string (nullable = true)\n",
      " |-- month: string (nullable = true)\n",
      " |-- year: string (nullable = true)\n",
      " |-- id: long (nullable = false)\n",
      "\n"
     ]
    }
   ],
   "source": [
    "df1.show()\n",
    "df1.printSchema()"
   ]
  },
  {
   "cell_type": "code",
   "execution_count": 16,
   "metadata": {},
   "outputs": [
    {
     "name": "stdout",
     "output_type": "stream",
     "text": [
      "+-----+---+-----+----+-----------+\n",
      "| name|day|month|year|         id|\n",
      "+-----+---+-----+----+-----------+\n",
      "| Ravi| 28|    1|2002|          0|\n",
      "|Abdul| 23|    5|1981|          1|\n",
      "|Abdul| 23|    5|1981| 8589934592|\n",
      "| John| 12|   12|2006|17179869184|\n",
      "| Rosy|  7|    8|1963|17179869185|\n",
      "+-----+---+-----+----+-----------+\n",
      "\n"
     ]
    }
   ],
   "source": [
    "df4 = df1.withColumn(\"day\", col(\"day\").cast(IntegerType())) \\\n",
    "    .withColumn(\"month\", col(\"month\").cast(IntegerType())) \\\n",
    "        .withColumn(\"year\", col(\"year\").cast(IntegerType()))\n",
    "        \n",
    "df5 = df4.withColumn(\"year\", expr(\"\"\"\n",
    "                                 case when year < 21 then year + 2000\n",
    "                                 when year < 100 then year + 1900\n",
    "                                 else year\n",
    "                                 end\"\"\").cast(IntegerType()))\n",
    "\n",
    "df5.show()"
   ]
  },
  {
   "cell_type": "markdown",
   "metadata": {},
   "source": [
    "# Alternate way to write CASE WHEN, using column objects"
   ]
  },
  {
   "cell_type": "code",
   "execution_count": 17,
   "metadata": {},
   "outputs": [
    {
     "name": "stdout",
     "output_type": "stream",
     "text": [
      "+-----+---+-----+----+-----------+\n",
      "| name|day|month|year|         id|\n",
      "+-----+---+-----+----+-----------+\n",
      "| Ravi| 28|    1|2002|          0|\n",
      "|Abdul| 23|    5|1981|          1|\n",
      "|Abdul| 23|    5|1981| 8589934592|\n",
      "| John| 12|   12|2006|17179869184|\n",
      "| Rosy|  7|    8|1963|17179869185|\n",
      "+-----+---+-----+----+-----------+\n",
      "\n"
     ]
    }
   ],
   "source": [
    "df6 = df4.withColumn(\"year\", \\\n",
    "    when(col(\"year\") < 21, col(\"year\") + 2000) \\\n",
    "        .when(col(\"year\") < 100, col(\"year\") + 1900) \\\n",
    "            .otherwise(col(\"year\")))\n",
    "\n",
    "df6.show()"
   ]
  },
  {
   "cell_type": "markdown",
   "metadata": {},
   "source": [
    "# Addding and removing columns and duplicates"
   ]
  },
  {
   "cell_type": "code",
   "execution_count": 18,
   "metadata": {},
   "outputs": [],
   "source": [
    "df7 = df6"
   ]
  },
  {
   "cell_type": "code",
   "execution_count": 19,
   "metadata": {},
   "outputs": [
    {
     "name": "stdout",
     "output_type": "stream",
     "text": [
      "+-----+---+-----+----+-----------+----------+\n",
      "| name|day|month|year|         id|       dob|\n",
      "+-----+---+-----+----+-----------+----------+\n",
      "| Ravi| 28|    1|2002|          0|2002-01-28|\n",
      "|Abdul| 23|    5|1981|          1|1981-05-23|\n",
      "|Abdul| 23|    5|1981| 8589934592|1981-05-23|\n",
      "| John| 12|   12|2006|17179869184|2006-12-12|\n",
      "| Rosy|  7|    8|1963|17179869185|1963-08-07|\n",
      "+-----+---+-----+----+-----------+----------+\n",
      "\n"
     ]
    }
   ],
   "source": [
    "df8 = df7.withColumn(\"dob\", expr(\"to_date(concat(day,'/',month,'/',year),'d/M/y')\"))\n",
    "df8.show()"
   ]
  },
  {
   "cell_type": "code",
   "execution_count": 21,
   "metadata": {},
   "outputs": [
    {
     "name": "stdout",
     "output_type": "stream",
     "text": [
      "+-----+---+-----+----+-----------+----------+\n",
      "| name|day|month|year|         id|       dob|\n",
      "+-----+---+-----+----+-----------+----------+\n",
      "| Ravi| 28|    1|2002|          0|2002-01-28|\n",
      "|Abdul| 23|    5|1981|          1|1981-05-23|\n",
      "|Abdul| 23|    5|1981| 8589934592|1981-05-23|\n",
      "| John| 12|   12|2006|17179869184|2006-12-12|\n",
      "| Rosy|  7|    8|1963|17179869185|1963-08-07|\n",
      "+-----+---+-----+----+-----------+----------+\n",
      "\n"
     ]
    }
   ],
   "source": [
    "df9 = df7.withColumn(\"dob\", to_date(expr(\"concat(day, '/', month, '/', year)\"),'d/M/y'))\n",
    "df9.show()"
   ]
  },
  {
   "cell_type": "code",
   "execution_count": 22,
   "metadata": {},
   "outputs": [
    {
     "name": "stdout",
     "output_type": "stream",
     "text": [
      "+-----+-----------+----------+\n",
      "| name|         id|       dob|\n",
      "+-----+-----------+----------+\n",
      "| Ravi|          0|2002-01-28|\n",
      "|Abdul|          1|1981-05-23|\n",
      "|Abdul| 8589934592|1981-05-23|\n",
      "| John|17179869184|2006-12-12|\n",
      "| Rosy|17179869185|1963-08-07|\n",
      "+-----+-----------+----------+\n",
      "\n"
     ]
    }
   ],
   "source": [
    "df9 = df7.withColumn(\"dob\", to_date(expr(\"concat(day, '/', month, '/', year)\"),'d/M/y')) \\\n",
    "    .drop(\"day\", \"month\", \"year\")\n",
    "df9.show()"
   ]
  },
  {
   "cell_type": "markdown",
   "metadata": {},
   "source": [
    "# Dropping Duplicate Rows"
   ]
  },
  {
   "cell_type": "code",
   "execution_count": 23,
   "metadata": {},
   "outputs": [
    {
     "name": "stdout",
     "output_type": "stream",
     "text": [
      "+-----+-----------+----------+\n",
      "| name|         id|       dob|\n",
      "+-----+-----------+----------+\n",
      "| Ravi|          0|2002-01-28|\n",
      "|Abdul|          1|1981-05-23|\n",
      "| Rosy|17179869185|1963-08-07|\n",
      "| John|17179869184|2006-12-12|\n",
      "+-----+-----------+----------+\n",
      "\n"
     ]
    }
   ],
   "source": [
    "df9 = df7.withColumn(\"dob\", to_date(expr(\"concat(day, '/', month, '/', year)\"),'d/M/y')) \\\n",
    "    .drop(\"day\", \"month\", \"year\") \\\n",
    "        .dropDuplicates(['name', \"dob\"])\n",
    "df9.show()"
   ]
  },
  {
   "cell_type": "code",
   "execution_count": 24,
   "metadata": {},
   "outputs": [
    {
     "name": "stdout",
     "output_type": "stream",
     "text": [
      "+-----+-----------+----------+\n",
      "| name|         id|       dob|\n",
      "+-----+-----------+----------+\n",
      "| Rosy|17179869185|1963-08-07|\n",
      "|Abdul|          1|1981-05-23|\n",
      "| Ravi|          0|2002-01-28|\n",
      "| John|17179869184|2006-12-12|\n",
      "+-----+-----------+----------+\n",
      "\n"
     ]
    }
   ],
   "source": [
    "df9 = df7.withColumn(\"dob\", to_date(expr(\"concat(day, '/', month, '/', year)\"),'d/M/y')) \\\n",
    "    .drop(\"day\", \"month\", \"year\") \\\n",
    "        .dropDuplicates(['name', \"dob\"]) \\\n",
    "            .sort(expr(\"dob desc\"))\n",
    "df9.show()"
   ]
  }
 ],
 "metadata": {
  "kernelspec": {
   "display_name": "Python 3",
   "language": "python",
   "name": "python3"
  },
  "language_info": {
   "codemirror_mode": {
    "name": "ipython",
    "version": 3
   },
   "file_extension": ".py",
   "mimetype": "text/x-python",
   "name": "python",
   "nbconvert_exporter": "python",
   "pygments_lexer": "ipython3",
   "version": "3.11.5"
  }
 },
 "nbformat": 4,
 "nbformat_minor": 2
}
